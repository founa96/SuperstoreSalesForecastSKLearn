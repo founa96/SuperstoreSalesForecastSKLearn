{
 "cells": [
  {
   "cell_type": "code",
   "execution_count": 1,
   "id": "f8bacc92",
   "metadata": {},
   "outputs": [],
   "source": [
    "import pandas as pd\n",
    "import numpy as np\n",
    "from datetime import datetime, timedelta\n",
    "from sklearn.linear_model import LinearRegression\n",
    "import matplotlib.pyplot as plt"
   ]
  },
  {
   "cell_type": "code",
   "execution_count": 2,
   "id": "ae6cd9fb",
   "metadata": {},
   "outputs": [],
   "source": [
    "# Load the data\n",
    "df = pd.read_excel(\"SuperstoreML.xls\")"
   ]
  },
  {
   "cell_type": "code",
   "execution_count": 3,
   "id": "39959221",
   "metadata": {},
   "outputs": [
    {
     "data": {
      "text/html": [
       "<div>\n",
       "<style scoped>\n",
       "    .dataframe tbody tr th:only-of-type {\n",
       "        vertical-align: middle;\n",
       "    }\n",
       "\n",
       "    .dataframe tbody tr th {\n",
       "        vertical-align: top;\n",
       "    }\n",
       "\n",
       "    .dataframe thead th {\n",
       "        text-align: right;\n",
       "    }\n",
       "</style>\n",
       "<table border=\"1\" class=\"dataframe\">\n",
       "  <thead>\n",
       "    <tr style=\"text-align: right;\">\n",
       "      <th></th>\n",
       "      <th>order_date</th>\n",
       "      <th>segment</th>\n",
       "      <th>sales</th>\n",
       "    </tr>\n",
       "  </thead>\n",
       "  <tbody>\n",
       "    <tr>\n",
       "      <th>0</th>\n",
       "      <td>2017-11-08</td>\n",
       "      <td>Consumer</td>\n",
       "      <td>261.959991</td>\n",
       "    </tr>\n",
       "    <tr>\n",
       "      <th>1</th>\n",
       "      <td>2017-11-08</td>\n",
       "      <td>Consumer</td>\n",
       "      <td>731.940002</td>\n",
       "    </tr>\n",
       "    <tr>\n",
       "      <th>2</th>\n",
       "      <td>2017-06-12</td>\n",
       "      <td>Corporate</td>\n",
       "      <td>14.620000</td>\n",
       "    </tr>\n",
       "    <tr>\n",
       "      <th>3</th>\n",
       "      <td>2016-10-11</td>\n",
       "      <td>Consumer</td>\n",
       "      <td>957.577515</td>\n",
       "    </tr>\n",
       "    <tr>\n",
       "      <th>4</th>\n",
       "      <td>2016-10-11</td>\n",
       "      <td>Consumer</td>\n",
       "      <td>22.368000</td>\n",
       "    </tr>\n",
       "  </tbody>\n",
       "</table>\n",
       "</div>"
      ],
      "text/plain": [
       "   order_date    segment       sales\n",
       "0  2017-11-08   Consumer  261.959991\n",
       "1  2017-11-08   Consumer  731.940002\n",
       "2  2017-06-12  Corporate   14.620000\n",
       "3  2016-10-11   Consumer  957.577515\n",
       "4  2016-10-11   Consumer   22.368000"
      ]
     },
     "execution_count": 3,
     "metadata": {},
     "output_type": "execute_result"
    }
   ],
   "source": [
    "df.head()"
   ]
  },
  {
   "cell_type": "code",
   "execution_count": 5,
   "id": "020406e4",
   "metadata": {},
   "outputs": [],
   "source": [
    "# Filter the data for the Consumer category\n",
    "df = df[df[\"segment\"] == \"Consumer\"]"
   ]
  },
  {
   "cell_type": "code",
   "execution_count": 9,
   "id": "c288a752",
   "metadata": {},
   "outputs": [],
   "source": [
    "# Convert the Order Date to datetime format\n",
    "df[\"order_date\"] = pd.to_datetime(df[\"order_date\"])"
   ]
  },
  {
   "cell_type": "code",
   "execution_count": 11,
   "id": "e081e754",
   "metadata": {},
   "outputs": [],
   "source": [
    "# Set the Order Date as the index\n",
    "df.set_index(\"order_date\", inplace=True)"
   ]
  },
  {
   "cell_type": "code",
   "execution_count": 13,
   "id": "4427e4cb",
   "metadata": {},
   "outputs": [],
   "source": [
    "# Resample the data to daily frequency and sum the sales for each day\n",
    "daily_sales = df[\"sales\"].resample(\"D\").sum().fillna(0)"
   ]
  },
  {
   "cell_type": "code",
   "execution_count": 14,
   "id": "e57486ff",
   "metadata": {},
   "outputs": [],
   "source": [
    "# Create a new DataFrame with the sales for the last 30 days..\n",
    "last_30_days = daily_sales[-30:]"
   ]
  },
  {
   "cell_type": "code",
   "execution_count": 15,
   "id": "62314f22",
   "metadata": {},
   "outputs": [],
   "source": [
    "# Create a feature matrix and target vector\n",
    "X = np.arange(len(daily_sales)).reshape(-1, 1)\n",
    "y = daily_sales.values"
   ]
  },
  {
   "cell_type": "code",
   "execution_count": 16,
   "id": "ce8fa7fb",
   "metadata": {},
   "outputs": [
    {
     "data": {
      "text/plain": [
       "LinearRegression()"
      ]
     },
     "execution_count": 16,
     "metadata": {},
     "output_type": "execute_result"
    }
   ],
   "source": [
    "# Fit a linear regression model to the data\n",
    "model = LinearRegression()\n",
    "model.fit(X, y)"
   ]
  },
  {
   "cell_type": "code",
   "execution_count": 17,
   "id": "66d2f8ea",
   "metadata": {},
   "outputs": [],
   "source": [
    "# Predict the sales for the next 30 days\n",
    "next_30_days = model.predict(np.arange(len(daily_sales), len(daily_sales) + 30).reshape(-1, 1))"
   ]
  },
  {
   "cell_type": "code",
   "execution_count": 18,
   "id": "25702c27",
   "metadata": {},
   "outputs": [],
   "source": [
    "# Create a datetime index for the next 30 days\n",
    "dates = pd.date_range(daily_sales.index[-1], periods=30, freq=\"D\")"
   ]
  },
  {
   "cell_type": "code",
   "execution_count": 19,
   "id": "24109215",
   "metadata": {},
   "outputs": [],
   "source": [
    "\n",
    "# Create a DataFrame with the predicted sales\n",
    "predicted_sales = pd.DataFrame({\"Date\": dates, \"Sales\": next_30_days})"
   ]
  },
  {
   "cell_type": "code",
   "execution_count": 20,
   "id": "991be33c",
   "metadata": {},
   "outputs": [
    {
     "data": {
      "image/png": "[encoded data removed]",
      "text/plain": [
       "<Figure size 640x480 with 1 Axes>"
      ]
     },
     "metadata": {},
     "output_type": "display_data"
    }
   ],
   "source": [
    "# Plot the actual sales and predicted sales\n",
    "plt.plot(daily_sales.index, daily_sales.values, label=\"Actual Sales\")\n",
    "plt.plot(predicted_sales[\"Date\"], predicted_sales[\"Sales\"], label=\"Predicted Sales\")\n",
    "plt.legend()\n",
    "plt.show()"
   ]
  },
  {
   "cell_type": "code",
   "execution_count": 21,
   "id": "38e37a63",
   "metadata": {},
   "outputs": [],
   "source": [
    "# Export the DataFrame to an Excel file\n",
    "predicted_sales.to_excel(\"predicted_sales.xlsx\", index=False)"
   ]
  },
  {
   "cell_type": "code",
   "execution_count": null,
   "id": "c05f030c",
   "metadata": {},
   "outputs": [],
   "source": []
  }
 ],
 "metadata": {
  "kernelspec": {
   "display_name": "Python 3 (ipykernel)",
   "language": "python",
   "name": "python3"
  },
  "language_info": {
   "codemirror_mode": {
    "name": "ipython",
    "version": 3
   },
   "file_extension": ".py",
   "mimetype": "text/x-python",
   "name": "python",
   "nbconvert_exporter": "python",
   "pygments_lexer": "ipython3",
   "version": "3.9.13"
  }
 },
 "nbformat": 4,
 "nbformat_minor": 5
}
